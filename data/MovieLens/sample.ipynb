{
 "cells": [
  {
   "cell_type": "code",
   "execution_count": 1,
   "metadata": {},
   "outputs": [],
   "source": [
    "import pandas as pd\n",
    "\n",
    "inter_df = pd.read_csv('ratings.csv', header=0, sep=',')"
   ]
  },
  {
   "cell_type": "code",
   "execution_count": 3,
   "metadata": {},
   "outputs": [
    {
     "data": {
      "text/plain": [
       "102.21969030893572"
      ]
     },
     "execution_count": 3,
     "metadata": {},
     "output_type": "execute_result"
    }
   ],
   "source": [
    "inter_df['movieId'].groupby(inter_df['userId']).count().mean()"
   ]
  },
  {
   "cell_type": "code",
   "execution_count": 4,
   "metadata": {},
   "outputs": [
    {
     "data": {
      "text/plain": [
       "406.4460409183195"
      ]
     },
     "execution_count": 4,
     "metadata": {},
     "output_type": "execute_result"
    }
   ],
   "source": [
    "inter_df['userId'].groupby(inter_df['movieId']).count().mean()"
   ]
  },
  {
   "cell_type": "code",
   "execution_count": 6,
   "metadata": {},
   "outputs": [
    {
     "data": {
      "text/plain": [
       "330975"
      ]
     },
     "execution_count": 6,
     "metadata": {},
     "output_type": "execute_result"
    }
   ],
   "source": [
    "len(inter_df['userId'].unique())"
   ]
  },
  {
   "cell_type": "code",
   "execution_count": 7,
   "metadata": {},
   "outputs": [
    {
     "data": {
      "text/plain": [
       "83239"
      ]
     },
     "execution_count": 7,
     "metadata": {},
     "output_type": "execute_result"
    }
   ],
   "source": [
    "len(inter_df['movieId'].unique())"
   ]
  },
  {
   "cell_type": "code",
   "execution_count": 10,
   "metadata": {},
   "outputs": [],
   "source": [
    "import random\n",
    "import os\n",
    "import re\n",
    "import sys\n",
    "work_dir = re.search('(.*LM4REC).*', os.getcwd(), re.IGNORECASE).group(1)\n",
    "sys.path.append(work_dir)\n",
    "sys.path.append(os.path.join(work_dir, 'RecStudio'))\n",
    "from RecStudio.recstudio.utils import seed_everything\n",
    "\n",
    "seed_everything(42)\n",
    "\n",
    "num_users = len(inter_df['userId'].unique())\n",
    "rand_users = []\n",
    "for _ in range(100000):\n",
    "    while True:\n",
    "        rand_user = random.randint(0, num_users - 1)\n",
    "        if rand_user not in rand_users:\n",
    "            rand_users.append(rand_user)\n",
    "            break"
   ]
  },
  {
   "cell_type": "code",
   "execution_count": 12,
   "metadata": {},
   "outputs": [
    {
     "data": {
      "text/plain": [
       "array([     1,      2,      3, ..., 330973, 330974, 330975])"
      ]
     },
     "execution_count": 12,
     "metadata": {},
     "output_type": "execute_result"
    }
   ],
   "source": [
    "inter_df['userId'].unique()"
   ]
  },
  {
   "cell_type": "code",
   "execution_count": 13,
   "metadata": {},
   "outputs": [
    {
     "data": {
      "text/plain": [
       "330975"
      ]
     },
     "execution_count": 13,
     "metadata": {},
     "output_type": "execute_result"
    }
   ],
   "source": [
    "inter_df['userId'].unique().max()"
   ]
  },
  {
   "cell_type": "code",
   "execution_count": 14,
   "metadata": {},
   "outputs": [
    {
     "data": {
      "text/plain": [
       "1"
      ]
     },
     "execution_count": 14,
     "metadata": {},
     "output_type": "execute_result"
    }
   ],
   "source": [
    "inter_df['userId'].unique().min()"
   ]
  },
  {
   "cell_type": "code",
   "execution_count": 15,
   "metadata": {},
   "outputs": [],
   "source": [
    "rand_users = [_+ 1 for _ in rand_users]"
   ]
  },
  {
   "cell_type": "code",
   "execution_count": 17,
   "metadata": {},
   "outputs": [],
   "source": [
    "rand_users = set(rand_users)"
   ]
  },
  {
   "cell_type": "code",
   "execution_count": 18,
   "metadata": {},
   "outputs": [],
   "source": [
    "keep = inter_df['userId'].map(lambda x : True if x in rand_users else False)"
   ]
  },
  {
   "cell_type": "code",
   "execution_count": 20,
   "metadata": {},
   "outputs": [
    {
     "data": {
      "text/html": [
       "<div>\n",
       "<style scoped>\n",
       "    .dataframe tbody tr th:only-of-type {\n",
       "        vertical-align: middle;\n",
       "    }\n",
       "\n",
       "    .dataframe tbody tr th {\n",
       "        vertical-align: top;\n",
       "    }\n",
       "\n",
       "    .dataframe thead th {\n",
       "        text-align: right;\n",
       "    }\n",
       "</style>\n",
       "<table border=\"1\" class=\"dataframe\">\n",
       "  <thead>\n",
       "    <tr style=\"text-align: right;\">\n",
       "      <th></th>\n",
       "      <th>userId</th>\n",
       "      <th>movieId</th>\n",
       "      <th>rating</th>\n",
       "      <th>timestamp</th>\n",
       "    </tr>\n",
       "  </thead>\n",
       "  <tbody>\n",
       "    <tr>\n",
       "      <th>183</th>\n",
       "      <td>4</td>\n",
       "      <td>260</td>\n",
       "      <td>5.0</td>\n",
       "      <td>1442455519</td>\n",
       "    </tr>\n",
       "    <tr>\n",
       "      <th>184</th>\n",
       "      <td>4</td>\n",
       "      <td>318</td>\n",
       "      <td>5.0</td>\n",
       "      <td>1442455559</td>\n",
       "    </tr>\n",
       "    <tr>\n",
       "      <th>185</th>\n",
       "      <td>4</td>\n",
       "      <td>356</td>\n",
       "      <td>5.0</td>\n",
       "      <td>1442455449</td>\n",
       "    </tr>\n",
       "    <tr>\n",
       "      <th>186</th>\n",
       "      <td>4</td>\n",
       "      <td>595</td>\n",
       "      <td>4.5</td>\n",
       "      <td>1442456131</td>\n",
       "    </tr>\n",
       "    <tr>\n",
       "      <th>187</th>\n",
       "      <td>4</td>\n",
       "      <td>858</td>\n",
       "      <td>3.0</td>\n",
       "      <td>1442455657</td>\n",
       "    </tr>\n",
       "    <tr>\n",
       "      <th>...</th>\n",
       "      <td>...</td>\n",
       "      <td>...</td>\n",
       "      <td>...</td>\n",
       "      <td>...</td>\n",
       "    </tr>\n",
       "    <tr>\n",
       "      <th>33831682</th>\n",
       "      <td>330973</td>\n",
       "      <td>7149</td>\n",
       "      <td>4.0</td>\n",
       "      <td>1383438153</td>\n",
       "    </tr>\n",
       "    <tr>\n",
       "      <th>33831683</th>\n",
       "      <td>330973</td>\n",
       "      <td>7153</td>\n",
       "      <td>3.0</td>\n",
       "      <td>1383438424</td>\n",
       "    </tr>\n",
       "    <tr>\n",
       "      <th>33831684</th>\n",
       "      <td>330973</td>\n",
       "      <td>31685</td>\n",
       "      <td>4.0</td>\n",
       "      <td>1383438076</td>\n",
       "    </tr>\n",
       "    <tr>\n",
       "      <th>33831685</th>\n",
       "      <td>330973</td>\n",
       "      <td>58559</td>\n",
       "      <td>4.5</td>\n",
       "      <td>1383438328</td>\n",
       "    </tr>\n",
       "    <tr>\n",
       "      <th>33831686</th>\n",
       "      <td>330973</td>\n",
       "      <td>79132</td>\n",
       "      <td>4.0</td>\n",
       "      <td>1383438391</td>\n",
       "    </tr>\n",
       "  </tbody>\n",
       "</table>\n",
       "<p>10223180 rows × 4 columns</p>\n",
       "</div>"
      ],
      "text/plain": [
       "          userId  movieId  rating   timestamp\n",
       "183            4      260     5.0  1442455519\n",
       "184            4      318     5.0  1442455559\n",
       "185            4      356     5.0  1442455449\n",
       "186            4      595     4.5  1442456131\n",
       "187            4      858     3.0  1442455657\n",
       "...          ...      ...     ...         ...\n",
       "33831682  330973     7149     4.0  1383438153\n",
       "33831683  330973     7153     3.0  1383438424\n",
       "33831684  330973    31685     4.0  1383438076\n",
       "33831685  330973    58559     4.5  1383438328\n",
       "33831686  330973    79132     4.0  1383438391\n",
       "\n",
       "[10223180 rows x 4 columns]"
      ]
     },
     "execution_count": 20,
     "metadata": {},
     "output_type": "execute_result"
    }
   ],
   "source": [
    "inter_df[keep]"
   ]
  },
  {
   "cell_type": "code",
   "execution_count": 22,
   "metadata": {},
   "outputs": [
    {
     "data": {
      "text/plain": [
       "90316"
      ]
     },
     "execution_count": 22,
     "metadata": {},
     "output_type": "execute_result"
    }
   ],
   "source": [
    "sum(inter_df[keep]['movieId'].groupby(inter_df[keep]['userId']).count() > 5)"
   ]
  },
  {
   "cell_type": "code",
   "execution_count": 23,
   "metadata": {},
   "outputs": [
    {
     "data": {
      "text/plain": [
       "23948"
      ]
     },
     "execution_count": 23,
     "metadata": {},
     "output_type": "execute_result"
    }
   ],
   "source": [
    "sum(inter_df[keep]['userId'].groupby(inter_df[keep]['movieId']).count() > 5)"
   ]
  },
  {
   "cell_type": "code",
   "execution_count": 24,
   "metadata": {},
   "outputs": [],
   "source": [
    "sampled_inter_df = inter_df[keep]"
   ]
  },
  {
   "cell_type": "code",
   "execution_count": 26,
   "metadata": {},
   "outputs": [],
   "source": [
    "sampled_inter_df.reset_index(drop=True, inplace=True)"
   ]
  },
  {
   "cell_type": "code",
   "execution_count": 27,
   "metadata": {},
   "outputs": [
    {
     "data": {
      "text/html": [
       "<div>\n",
       "<style scoped>\n",
       "    .dataframe tbody tr th:only-of-type {\n",
       "        vertical-align: middle;\n",
       "    }\n",
       "\n",
       "    .dataframe tbody tr th {\n",
       "        vertical-align: top;\n",
       "    }\n",
       "\n",
       "    .dataframe thead th {\n",
       "        text-align: right;\n",
       "    }\n",
       "</style>\n",
       "<table border=\"1\" class=\"dataframe\">\n",
       "  <thead>\n",
       "    <tr style=\"text-align: right;\">\n",
       "      <th></th>\n",
       "      <th>userId</th>\n",
       "      <th>movieId</th>\n",
       "      <th>rating</th>\n",
       "      <th>timestamp</th>\n",
       "    </tr>\n",
       "  </thead>\n",
       "  <tbody>\n",
       "    <tr>\n",
       "      <th>0</th>\n",
       "      <td>4</td>\n",
       "      <td>260</td>\n",
       "      <td>5.0</td>\n",
       "      <td>1442455519</td>\n",
       "    </tr>\n",
       "    <tr>\n",
       "      <th>1</th>\n",
       "      <td>4</td>\n",
       "      <td>318</td>\n",
       "      <td>5.0</td>\n",
       "      <td>1442455559</td>\n",
       "    </tr>\n",
       "    <tr>\n",
       "      <th>2</th>\n",
       "      <td>4</td>\n",
       "      <td>356</td>\n",
       "      <td>5.0</td>\n",
       "      <td>1442455449</td>\n",
       "    </tr>\n",
       "    <tr>\n",
       "      <th>3</th>\n",
       "      <td>4</td>\n",
       "      <td>595</td>\n",
       "      <td>4.5</td>\n",
       "      <td>1442456131</td>\n",
       "    </tr>\n",
       "    <tr>\n",
       "      <th>4</th>\n",
       "      <td>4</td>\n",
       "      <td>858</td>\n",
       "      <td>3.0</td>\n",
       "      <td>1442455657</td>\n",
       "    </tr>\n",
       "    <tr>\n",
       "      <th>...</th>\n",
       "      <td>...</td>\n",
       "      <td>...</td>\n",
       "      <td>...</td>\n",
       "      <td>...</td>\n",
       "    </tr>\n",
       "    <tr>\n",
       "      <th>10223175</th>\n",
       "      <td>330973</td>\n",
       "      <td>7149</td>\n",
       "      <td>4.0</td>\n",
       "      <td>1383438153</td>\n",
       "    </tr>\n",
       "    <tr>\n",
       "      <th>10223176</th>\n",
       "      <td>330973</td>\n",
       "      <td>7153</td>\n",
       "      <td>3.0</td>\n",
       "      <td>1383438424</td>\n",
       "    </tr>\n",
       "    <tr>\n",
       "      <th>10223177</th>\n",
       "      <td>330973</td>\n",
       "      <td>31685</td>\n",
       "      <td>4.0</td>\n",
       "      <td>1383438076</td>\n",
       "    </tr>\n",
       "    <tr>\n",
       "      <th>10223178</th>\n",
       "      <td>330973</td>\n",
       "      <td>58559</td>\n",
       "      <td>4.5</td>\n",
       "      <td>1383438328</td>\n",
       "    </tr>\n",
       "    <tr>\n",
       "      <th>10223179</th>\n",
       "      <td>330973</td>\n",
       "      <td>79132</td>\n",
       "      <td>4.0</td>\n",
       "      <td>1383438391</td>\n",
       "    </tr>\n",
       "  </tbody>\n",
       "</table>\n",
       "<p>10223180 rows × 4 columns</p>\n",
       "</div>"
      ],
      "text/plain": [
       "          userId  movieId  rating   timestamp\n",
       "0              4      260     5.0  1442455519\n",
       "1              4      318     5.0  1442455559\n",
       "2              4      356     5.0  1442455449\n",
       "3              4      595     4.5  1442456131\n",
       "4              4      858     3.0  1442455657\n",
       "...          ...      ...     ...         ...\n",
       "10223175  330973     7149     4.0  1383438153\n",
       "10223176  330973     7153     3.0  1383438424\n",
       "10223177  330973    31685     4.0  1383438076\n",
       "10223178  330973    58559     4.5  1383438328\n",
       "10223179  330973    79132     4.0  1383438391\n",
       "\n",
       "[10223180 rows x 4 columns]"
      ]
     },
     "execution_count": 27,
     "metadata": {},
     "output_type": "execute_result"
    }
   ],
   "source": [
    "sampled_inter_df"
   ]
  },
  {
   "cell_type": "code",
   "execution_count": 28,
   "metadata": {},
   "outputs": [],
   "source": [
    "import scipy.sparse as ssp\n",
    "import warnings\n",
    "import numpy as np\n",
    "\n",
    "item_list = sampled_inter_df['movieId']\n",
    "item_idx_list, items = pd.factorize(item_list)\n",
    "user_list = sampled_inter_df['userId']\n",
    "user_idx_list, users = pd.factorize(user_list)\n",
    "warnings.simplefilter('ignore', ssp.SparseEfficiencyWarning)\n",
    "user_item_mat = ssp.csc_matrix(\n",
    "    (np.ones_like(user_idx_list), (user_idx_list, item_idx_list)))\n",
    "cols = np.arange(items.size)\n",
    "rows = np.arange(users.size)\n",
    "while(True): # TODO: only delete users/items in inter_feat, users/items in user/item_feat should also be deleted.\n",
    "    m, n = user_item_mat.shape\n",
    "    col_sum = np.squeeze(user_item_mat.sum(axis=0).A)\n",
    "    col_ind = col_sum >= 5\n",
    "    col_count = np.count_nonzero(col_ind)\n",
    "    if col_count > 0:\n",
    "        cols = cols[col_ind]\n",
    "        user_item_mat = user_item_mat[:, col_ind]\n",
    "    row_sum = np.squeeze(user_item_mat.sum(axis=1).A)\n",
    "    row_ind = row_sum >= 5\n",
    "    row_count = np.count_nonzero(row_ind)\n",
    "    if row_count > 0:\n",
    "        rows = rows[row_ind]\n",
    "        user_item_mat = user_item_mat[row_ind, :]\n",
    "    if col_count == n and row_count == m:\n",
    "        break\n",
    "    else:\n",
    "        pass\n",
    "#\n",
    "keep_users = set(users[rows])\n",
    "keep_items = set(items[cols])\n",
    "keep = user_list.isin(keep_users)\n",
    "keep &= item_list.isin(keep_items)\n",
    "re_sampled_inter_df = sampled_inter_df[keep]\n",
    "re_sampled_inter_df.reset_index(drop=True, inplace=True)"
   ]
  },
  {
   "cell_type": "code",
   "execution_count": 29,
   "metadata": {},
   "outputs": [
    {
     "data": {
      "text/html": [
       "<div>\n",
       "<style scoped>\n",
       "    .dataframe tbody tr th:only-of-type {\n",
       "        vertical-align: middle;\n",
       "    }\n",
       "\n",
       "    .dataframe tbody tr th {\n",
       "        vertical-align: top;\n",
       "    }\n",
       "\n",
       "    .dataframe thead th {\n",
       "        text-align: right;\n",
       "    }\n",
       "</style>\n",
       "<table border=\"1\" class=\"dataframe\">\n",
       "  <thead>\n",
       "    <tr style=\"text-align: right;\">\n",
       "      <th></th>\n",
       "      <th>userId</th>\n",
       "      <th>movieId</th>\n",
       "      <th>rating</th>\n",
       "      <th>timestamp</th>\n",
       "    </tr>\n",
       "  </thead>\n",
       "  <tbody>\n",
       "    <tr>\n",
       "      <th>0</th>\n",
       "      <td>4</td>\n",
       "      <td>260</td>\n",
       "      <td>5.0</td>\n",
       "      <td>1442455519</td>\n",
       "    </tr>\n",
       "    <tr>\n",
       "      <th>1</th>\n",
       "      <td>4</td>\n",
       "      <td>318</td>\n",
       "      <td>5.0</td>\n",
       "      <td>1442455559</td>\n",
       "    </tr>\n",
       "    <tr>\n",
       "      <th>2</th>\n",
       "      <td>4</td>\n",
       "      <td>356</td>\n",
       "      <td>5.0</td>\n",
       "      <td>1442455449</td>\n",
       "    </tr>\n",
       "    <tr>\n",
       "      <th>3</th>\n",
       "      <td>4</td>\n",
       "      <td>595</td>\n",
       "      <td>4.5</td>\n",
       "      <td>1442456131</td>\n",
       "    </tr>\n",
       "    <tr>\n",
       "      <th>4</th>\n",
       "      <td>4</td>\n",
       "      <td>858</td>\n",
       "      <td>3.0</td>\n",
       "      <td>1442455657</td>\n",
       "    </tr>\n",
       "    <tr>\n",
       "      <th>...</th>\n",
       "      <td>...</td>\n",
       "      <td>...</td>\n",
       "      <td>...</td>\n",
       "      <td>...</td>\n",
       "    </tr>\n",
       "    <tr>\n",
       "      <th>10146325</th>\n",
       "      <td>330973</td>\n",
       "      <td>7149</td>\n",
       "      <td>4.0</td>\n",
       "      <td>1383438153</td>\n",
       "    </tr>\n",
       "    <tr>\n",
       "      <th>10146326</th>\n",
       "      <td>330973</td>\n",
       "      <td>7153</td>\n",
       "      <td>3.0</td>\n",
       "      <td>1383438424</td>\n",
       "    </tr>\n",
       "    <tr>\n",
       "      <th>10146327</th>\n",
       "      <td>330973</td>\n",
       "      <td>31685</td>\n",
       "      <td>4.0</td>\n",
       "      <td>1383438076</td>\n",
       "    </tr>\n",
       "    <tr>\n",
       "      <th>10146328</th>\n",
       "      <td>330973</td>\n",
       "      <td>58559</td>\n",
       "      <td>4.5</td>\n",
       "      <td>1383438328</td>\n",
       "    </tr>\n",
       "    <tr>\n",
       "      <th>10146329</th>\n",
       "      <td>330973</td>\n",
       "      <td>79132</td>\n",
       "      <td>4.0</td>\n",
       "      <td>1383438391</td>\n",
       "    </tr>\n",
       "  </tbody>\n",
       "</table>\n",
       "<p>10146330 rows × 4 columns</p>\n",
       "</div>"
      ],
      "text/plain": [
       "          userId  movieId  rating   timestamp\n",
       "0              4      260     5.0  1442455519\n",
       "1              4      318     5.0  1442455559\n",
       "2              4      356     5.0  1442455449\n",
       "3              4      595     4.5  1442456131\n",
       "4              4      858     3.0  1442455657\n",
       "...          ...      ...     ...         ...\n",
       "10146325  330973     7149     4.0  1383438153\n",
       "10146326  330973     7153     3.0  1383438424\n",
       "10146327  330973    31685     4.0  1383438076\n",
       "10146328  330973    58559     4.5  1383438328\n",
       "10146329  330973    79132     4.0  1383438391\n",
       "\n",
       "[10146330 rows x 4 columns]"
      ]
     },
     "execution_count": 29,
     "metadata": {},
     "output_type": "execute_result"
    }
   ],
   "source": [
    "re_sampled_inter_df"
   ]
  },
  {
   "cell_type": "code",
   "execution_count": 45,
   "metadata": {},
   "outputs": [
    {
     "data": {
      "text/plain": [
       "92910"
      ]
     },
     "execution_count": 45,
     "metadata": {},
     "output_type": "execute_result"
    }
   ],
   "source": [
    "len(re_sampled_inter_df.userId.unique())"
   ]
  },
  {
   "cell_type": "code",
   "execution_count": 47,
   "metadata": {},
   "outputs": [
    {
     "data": {
      "text/plain": [
       "109.2060058120762"
      ]
     },
     "execution_count": 47,
     "metadata": {},
     "output_type": "execute_result"
    }
   ],
   "source": [
    "re_sampled_inter_df['movieId'].groupby(re_sampled_inter_df['userId']).count().mean()"
   ]
  },
  {
   "cell_type": "code",
   "execution_count": 44,
   "metadata": {},
   "outputs": [],
   "source": [
    "re_sampled_inter_df.to_csv('sampled_ratings.csv', sep=',', index=False)"
   ]
  },
  {
   "cell_type": "code",
   "execution_count": 32,
   "metadata": {},
   "outputs": [],
   "source": [
    "keep_movie_id = set(re_sampled_inter_df['movieId'].to_list())"
   ]
  },
  {
   "cell_type": "code",
   "execution_count": 30,
   "metadata": {},
   "outputs": [],
   "source": [
    "item_link_df = pd.read_csv('links.csv', header=0, sep=',')"
   ]
  },
  {
   "cell_type": "code",
   "execution_count": 31,
   "metadata": {},
   "outputs": [
    {
     "data": {
      "text/html": [
       "<div>\n",
       "<style scoped>\n",
       "    .dataframe tbody tr th:only-of-type {\n",
       "        vertical-align: middle;\n",
       "    }\n",
       "\n",
       "    .dataframe tbody tr th {\n",
       "        vertical-align: top;\n",
       "    }\n",
       "\n",
       "    .dataframe thead th {\n",
       "        text-align: right;\n",
       "    }\n",
       "</style>\n",
       "<table border=\"1\" class=\"dataframe\">\n",
       "  <thead>\n",
       "    <tr style=\"text-align: right;\">\n",
       "      <th></th>\n",
       "      <th>movieId</th>\n",
       "      <th>imdbId</th>\n",
       "      <th>tmdbId</th>\n",
       "    </tr>\n",
       "  </thead>\n",
       "  <tbody>\n",
       "    <tr>\n",
       "      <th>0</th>\n",
       "      <td>1</td>\n",
       "      <td>114709</td>\n",
       "      <td>862.0</td>\n",
       "    </tr>\n",
       "    <tr>\n",
       "      <th>1</th>\n",
       "      <td>2</td>\n",
       "      <td>113497</td>\n",
       "      <td>8844.0</td>\n",
       "    </tr>\n",
       "    <tr>\n",
       "      <th>2</th>\n",
       "      <td>3</td>\n",
       "      <td>113228</td>\n",
       "      <td>15602.0</td>\n",
       "    </tr>\n",
       "    <tr>\n",
       "      <th>3</th>\n",
       "      <td>4</td>\n",
       "      <td>114885</td>\n",
       "      <td>31357.0</td>\n",
       "    </tr>\n",
       "    <tr>\n",
       "      <th>4</th>\n",
       "      <td>5</td>\n",
       "      <td>113041</td>\n",
       "      <td>11862.0</td>\n",
       "    </tr>\n",
       "    <tr>\n",
       "      <th>...</th>\n",
       "      <td>...</td>\n",
       "      <td>...</td>\n",
       "      <td>...</td>\n",
       "    </tr>\n",
       "    <tr>\n",
       "      <th>86532</th>\n",
       "      <td>288967</td>\n",
       "      <td>14418234</td>\n",
       "      <td>845861.0</td>\n",
       "    </tr>\n",
       "    <tr>\n",
       "      <th>86533</th>\n",
       "      <td>288971</td>\n",
       "      <td>11162178</td>\n",
       "      <td>878958.0</td>\n",
       "    </tr>\n",
       "    <tr>\n",
       "      <th>86534</th>\n",
       "      <td>288975</td>\n",
       "      <td>70199</td>\n",
       "      <td>150392.0</td>\n",
       "    </tr>\n",
       "    <tr>\n",
       "      <th>86535</th>\n",
       "      <td>288977</td>\n",
       "      <td>23050520</td>\n",
       "      <td>1102551.0</td>\n",
       "    </tr>\n",
       "    <tr>\n",
       "      <th>86536</th>\n",
       "      <td>288983</td>\n",
       "      <td>11644948</td>\n",
       "      <td>940588.0</td>\n",
       "    </tr>\n",
       "  </tbody>\n",
       "</table>\n",
       "<p>86537 rows × 3 columns</p>\n",
       "</div>"
      ],
      "text/plain": [
       "       movieId    imdbId     tmdbId\n",
       "0            1    114709      862.0\n",
       "1            2    113497     8844.0\n",
       "2            3    113228    15602.0\n",
       "3            4    114885    31357.0\n",
       "4            5    113041    11862.0\n",
       "...        ...       ...        ...\n",
       "86532   288967  14418234   845861.0\n",
       "86533   288971  11162178   878958.0\n",
       "86534   288975     70199   150392.0\n",
       "86535   288977  23050520  1102551.0\n",
       "86536   288983  11644948   940588.0\n",
       "\n",
       "[86537 rows x 3 columns]"
      ]
     },
     "execution_count": 31,
     "metadata": {},
     "output_type": "execute_result"
    }
   ],
   "source": [
    "item_link_df"
   ]
  },
  {
   "cell_type": "code",
   "execution_count": 33,
   "metadata": {},
   "outputs": [],
   "source": [
    "keep_movie = item_link_df['movieId'].map(lambda x: True if x in keep_movie_id else False)"
   ]
  },
  {
   "cell_type": "code",
   "execution_count": 34,
   "metadata": {},
   "outputs": [],
   "source": [
    "sampled_item_link_df = item_link_df[keep_movie]"
   ]
  },
  {
   "cell_type": "code",
   "execution_count": 35,
   "metadata": {},
   "outputs": [
    {
     "data": {
      "text/html": [
       "<div>\n",
       "<style scoped>\n",
       "    .dataframe tbody tr th:only-of-type {\n",
       "        vertical-align: middle;\n",
       "    }\n",
       "\n",
       "    .dataframe tbody tr th {\n",
       "        vertical-align: top;\n",
       "    }\n",
       "\n",
       "    .dataframe thead th {\n",
       "        text-align: right;\n",
       "    }\n",
       "</style>\n",
       "<table border=\"1\" class=\"dataframe\">\n",
       "  <thead>\n",
       "    <tr style=\"text-align: right;\">\n",
       "      <th></th>\n",
       "      <th>movieId</th>\n",
       "      <th>imdbId</th>\n",
       "      <th>tmdbId</th>\n",
       "    </tr>\n",
       "  </thead>\n",
       "  <tbody>\n",
       "    <tr>\n",
       "      <th>0</th>\n",
       "      <td>1</td>\n",
       "      <td>114709</td>\n",
       "      <td>862.0</td>\n",
       "    </tr>\n",
       "    <tr>\n",
       "      <th>1</th>\n",
       "      <td>2</td>\n",
       "      <td>113497</td>\n",
       "      <td>8844.0</td>\n",
       "    </tr>\n",
       "    <tr>\n",
       "      <th>2</th>\n",
       "      <td>3</td>\n",
       "      <td>113228</td>\n",
       "      <td>15602.0</td>\n",
       "    </tr>\n",
       "    <tr>\n",
       "      <th>3</th>\n",
       "      <td>4</td>\n",
       "      <td>114885</td>\n",
       "      <td>31357.0</td>\n",
       "    </tr>\n",
       "    <tr>\n",
       "      <th>4</th>\n",
       "      <td>5</td>\n",
       "      <td>113041</td>\n",
       "      <td>11862.0</td>\n",
       "    </tr>\n",
       "    <tr>\n",
       "      <th>...</th>\n",
       "      <td>...</td>\n",
       "      <td>...</td>\n",
       "      <td>...</td>\n",
       "    </tr>\n",
       "    <tr>\n",
       "      <th>86303</th>\n",
       "      <td>288167</td>\n",
       "      <td>12263384</td>\n",
       "      <td>697843.0</td>\n",
       "    </tr>\n",
       "    <tr>\n",
       "      <th>86320</th>\n",
       "      <td>288265</td>\n",
       "      <td>9603212</td>\n",
       "      <td>575264.0</td>\n",
       "    </tr>\n",
       "    <tr>\n",
       "      <th>86321</th>\n",
       "      <td>288269</td>\n",
       "      <td>15671028</td>\n",
       "      <td>884605.0</td>\n",
       "    </tr>\n",
       "    <tr>\n",
       "      <th>86338</th>\n",
       "      <td>288311</td>\n",
       "      <td>19500164</td>\n",
       "      <td>961323.0</td>\n",
       "    </tr>\n",
       "    <tr>\n",
       "      <th>86439</th>\n",
       "      <td>288679</td>\n",
       "      <td>11274492</td>\n",
       "      <td>921636.0</td>\n",
       "    </tr>\n",
       "  </tbody>\n",
       "</table>\n",
       "<p>26083 rows × 3 columns</p>\n",
       "</div>"
      ],
      "text/plain": [
       "       movieId    imdbId    tmdbId\n",
       "0            1    114709     862.0\n",
       "1            2    113497    8844.0\n",
       "2            3    113228   15602.0\n",
       "3            4    114885   31357.0\n",
       "4            5    113041   11862.0\n",
       "...        ...       ...       ...\n",
       "86303   288167  12263384  697843.0\n",
       "86320   288265   9603212  575264.0\n",
       "86321   288269  15671028  884605.0\n",
       "86338   288311  19500164  961323.0\n",
       "86439   288679  11274492  921636.0\n",
       "\n",
       "[26083 rows x 3 columns]"
      ]
     },
     "execution_count": 35,
     "metadata": {},
     "output_type": "execute_result"
    }
   ],
   "source": [
    "sampled_item_link_df"
   ]
  },
  {
   "cell_type": "code",
   "execution_count": 42,
   "metadata": {},
   "outputs": [
    {
     "name": "stdout",
     "output_type": "stream",
     "text": [
      "<class 'pandas.core.frame.DataFrame'>\n",
      "Index: 26083 entries, 0 to 86439\n",
      "Data columns (total 3 columns):\n",
      " #   Column   Non-Null Count  Dtype  \n",
      "---  ------   --------------  -----  \n",
      " 0   movieId  26083 non-null  int64  \n",
      " 1   imdbId   26083 non-null  int64  \n",
      " 2   tmdbId   26056 non-null  float64\n",
      "dtypes: float64(1), int64(2)\n",
      "memory usage: 815.1 KB\n"
     ]
    }
   ],
   "source": [
    "sampled_item_link_df.info()"
   ]
  },
  {
   "cell_type": "code",
   "execution_count": null,
   "metadata": {},
   "outputs": [],
   "source": [
    "sampled_item_link_df.to_csv('sampled_links.csv', sep=',', index=False)"
   ]
  }
 ],
 "metadata": {
  "kernelspec": {
   "display_name": "recstudio",
   "language": "python",
   "name": "python3"
  },
  "language_info": {
   "codemirror_mode": {
    "name": "ipython",
    "version": 3
   },
   "file_extension": ".py",
   "mimetype": "text/x-python",
   "name": "python",
   "nbconvert_exporter": "python",
   "pygments_lexer": "ipython3",
   "version": "3.11.3"
  }
 },
 "nbformat": 4,
 "nbformat_minor": 2
}
