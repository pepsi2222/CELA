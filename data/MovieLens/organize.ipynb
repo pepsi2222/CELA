{
 "cells": [
  {
   "cell_type": "code",
   "execution_count": 7,
   "metadata": {},
   "outputs": [],
   "source": [
    "from collections import defaultdict\n",
    "\n",
    "d = defaultdict(list)\n",
    "cant_remap_tmdb = []\n",
    "with open('tmdb_not_found.csv') as f:\n",
    "    for line in f.readlines()[1:]:\n",
    "        line = line.strip().split(',')\n",
    "        if len(line) == 1:\n",
    "            cant_remap_tmdb.append(line[0])\n",
    "        elif len(line) > 1:\n",
    "            d['movieId'].append(line[0])\n",
    "            d['tmdbId'].append(line[1])\n",
    "            if len(line) > 2:\n",
    "                d['type'].append('tv')\n",
    "            else:\n",
    "                d['type'].append('movie')"
   ]
  },
  {
   "cell_type": "code",
   "execution_count": 8,
   "metadata": {},
   "outputs": [],
   "source": [
    "import pandas as pd\n",
    "\n",
    "df = pd.DataFrame(d)\n",
    "df.to_csv('tmdb_remap.csv', index=False)"
   ]
  },
  {
   "cell_type": "code",
   "execution_count": 14,
   "metadata": {},
   "outputs": [],
   "source": [
    "import json\n",
    "\n",
    "with open('cant_remap_tmdb.csv', 'w') as f:\n",
    "    f.write('movieId\\n')\n",
    "    for _ in cant_remap_tmdb:\n",
    "        f.write(_ + '\\n')"
   ]
  },
  {
   "cell_type": "markdown",
   "metadata": {},
   "source": [
    "## Get all sampled items"
   ]
  },
  {
   "cell_type": "code",
   "execution_count": 17,
   "metadata": {},
   "outputs": [],
   "source": [
    "def read_jsonl(fpath: str):\n",
    "    res = []\n",
    "    with open(fpath, 'r', encoding=\"utf-8\") as f:\n",
    "        for line in f:\n",
    "            data = json.loads(line)\n",
    "            res.append(data)\n",
    "    return res"
   ]
  },
  {
   "cell_type": "code",
   "execution_count": 18,
   "metadata": {},
   "outputs": [],
   "source": [
    "tmdb = read_jsonl(\"tmdb.jsonl\")"
   ]
  },
  {
   "cell_type": "code",
   "execution_count": 44,
   "metadata": {},
   "outputs": [],
   "source": [
    "all_tmdb_items = []\n",
    "for d in tmdb:\n",
    "    item = {}\n",
    "    item['movieId'] = d['movieID']\n",
    "    if 'tmdID' in d:\n",
    "        item['tmdbId'] = d['tmdID']\n",
    "    item['url'] = d['url']\n",
    "    item['title'] = d['movie_title']\n",
    "    item['keywords'] = list(set(d['keyword_list']) - set(\"\"))\n",
    "    item['genres'] = list(set(d['keyword_list']) - set(\"\"))\n",
    "    item['overview'] = d['overview']\n",
    "    if 'averge_rating' in d:\n",
    "        item['average_rating'] = float(d['average_rating'])\n",
    "    runtime = d['runtime'].split(' ')\n",
    "    try:\n",
    "        if len(runtime) == 1 and runtime[0].endswith('m'):\n",
    "            item['duration'] = int(runtime[0].strip('m'))\n",
    "        elif len(runtime) == 1 and runtime[0].endswith('h'):\n",
    "            item['duration'] = 60*int(runtime[0].strip('h'))\n",
    "        else:\n",
    "            assert len(runtime) == 2\n",
    "            assert runtime[-1].endswith('m') and runtime[0].endswith('h')\n",
    "            item['duration'] = int(runtime[-1].strip('m')) + 60*int(runtime[0].strip('h'))\n",
    "    except:\n",
    "        item['duration'] = 0\n",
    "    item['release_year'] = d['release_year']\n",
    "\n",
    "    tmp = defaultdict(list)\n",
    "    for k, v in d['people_dict'].items():\n",
    "        for _ in k.split(', '):\n",
    "            tmp[_.lower()].append(v)\n",
    "    for k, v in tmp.items():\n",
    "        if not isinstance(v, list):\n",
    "            item[k] = [v]\n",
    "        else:\n",
    "            item[k] = v\n",
    "    try:\n",
    "        item['language'] = d['property_dict']['Original Language']\n",
    "    except:\n",
    "        pass\n",
    "    try:\n",
    "        item['status'] = d['property_dict']['Status']\n",
    "    except:\n",
    "        pass\n",
    "    try:\n",
    "        item['budget'] = d['property_dict']['Budget']\n",
    "    except:\n",
    "        pass\n",
    "    try:\n",
    "        item['revenue'] = d['property_dict']['Revenue']\n",
    "    except:\n",
    "        pass\n",
    "\n",
    "    all_tmdb_items.append(item)\n",
    "  "
   ]
  },
  {
   "cell_type": "code",
   "execution_count": 45,
   "metadata": {},
   "outputs": [],
   "source": [
    "movielens = read_jsonl(\"movielens.jsonl\")\n",
    "all_movielens_items = []\n",
    "for d in movielens:\n",
    "    item = {}\n",
    "    item['movieId'] = d['movieID']\n",
    "    if 'tmdID' in d:\n",
    "        item['tmdbId'] = d['tmdID']\n",
    "    item['url'] = d['url']\n",
    "    item['overview'] = d['overview']\n",
    "    item['title'] = d['movie_title']\n",
    "    item['keywords'] = list(set(d['keyword_list']) - set(\"\"))\n",
    "    item['genres'] = list(set(d['keyword_list']) - set(\"\"))\n",
    "    if 'averge_rating' in d:\n",
    "        item['average_rating'] = float(d['average_rating'])\n",
    "    runtime = d['runtime']\n",
    "    if runtime.endswith(' minutes'):\n",
    "        item['duration'] = int(runtime.strip(' minutes'))\n",
    "    elif runtime == '':\n",
    "        item['duration'] = 0\n",
    "    else:\n",
    "        assert int(runtime) > 1000\n",
    "        item['duration'] = 0\n",
    "\n",
    "    item['release_year'] = d['release_year']\n",
    "    if 'Director' in d['people_dict']:\n",
    "        if d['people_dict']['Director'][0] != \"\":\n",
    "            try:\n",
    "                item['director'] = d['people_dict']['Director']\n",
    "            except:\n",
    "                print(d['movieID'])\n",
    "    try:\n",
    "        if d['property_dict']['original_language'] != 'No Language':\n",
    "            item['language'] = d['property_dict']['original_language']\n",
    "    except:\n",
    "        pass\n",
    "\n",
    "    all_movielens_items.append(item)\n",
    "  "
   ]
  },
  {
   "cell_type": "code",
   "execution_count": null,
   "metadata": {},
   "outputs": [],
   "source": [
    "with open('sampled_items.jsonl', 'w') as f:\n",
    "    for _ in all_tmdb_items + all_movielens_items:\n",
    "        json.dump(_, f)\n",
    "        f.write('\\n')"
   ]
  },
  {
   "cell_type": "markdown",
   "metadata": {},
   "source": [
    "# Get summary"
   ]
  },
  {
   "cell_type": "code",
   "execution_count": 1,
   "metadata": {},
   "outputs": [],
   "source": [
    "def read_jsonl(fpath: str):\n",
    "    res = []\n",
    "    with open(fpath, 'r', encoding=\"utf-8\") as f:\n",
    "        for line in f:\n",
    "            data = json.loads(line)\n",
    "            res.append(data)\n",
    "    return res"
   ]
  },
  {
   "cell_type": "code",
   "execution_count": 4,
   "metadata": {},
   "outputs": [],
   "source": [
    "import json\n",
    "items = read_jsonl('sampled_items.jsonl')"
   ]
  },
  {
   "cell_type": "code",
   "execution_count": 6,
   "metadata": {},
   "outputs": [],
   "source": [
    "summaries = dict()\n",
    "for _ in items:\n",
    "    summary = ''\n",
    "    if _['title'] != ''and len(_['keywords']) + len(_['genres']) > 0:\n",
    "        summary += f\"{_['title']} is a movie about {', '.join(_['keywords'] + _['genres'])}. \"\n",
    "    summary += f\"It's released in {_['release_year']}. \"\n",
    "    if _['duration'] != 0:\n",
    "        summary += f\"It's {_['duration']} minutes long. \"\n",
    "    if 'director' in _:\n",
    "        summary += f\"Directed by {' '.join(_['director'])}, \"\n",
    "    if 'overview' != '':\n",
    "        summary += f\"it tell a story about {_['overview']}\"\n",
    "    summaries[_['movieId']] = summary\n"
   ]
  },
  {
   "cell_type": "code",
   "execution_count": 8,
   "metadata": {},
   "outputs": [],
   "source": [
    "with open('sampled_summaries.json', 'w') as f:\n",
    "    json.dump(summaries, f)"
   ]
  }
 ],
 "metadata": {
  "kernelspec": {
   "display_name": "recstudio",
   "language": "python",
   "name": "python3"
  },
  "language_info": {
   "codemirror_mode": {
    "name": "ipython",
    "version": 3
   },
   "file_extension": ".py",
   "mimetype": "text/x-python",
   "name": "python",
   "nbconvert_exporter": "python",
   "pygments_lexer": "ipython3",
   "version": "3.11.3"
  }
 },
 "nbformat": 4,
 "nbformat_minor": 2
}
