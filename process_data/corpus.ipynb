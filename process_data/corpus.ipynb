{
 "cells": [
  {
   "cell_type": "code",
   "execution_count": null,
   "metadata": {},
   "outputs": [],
   "source": [
    "import os\n",
    "import pickle\n",
    "import pandas as pd\n",
    "import sys\n",
    "sys.path.append('..')\n",
    "sys.path.append('../RecStudio')"
   ]
  },
  {
   "cell_type": "code",
   "execution_count": null,
   "metadata": {},
   "outputs": [],
   "source": [
    "dataset = 'amazon-sports'\n",
    "if dataset == 'amazon-toys':\n",
    "    dataset_dir = 'Toys_and_Games'\n",
    "elif dataset == 'amazon-sports':\n",
    "    dataset_dir = 'Sports_and_Outdoors'\n",
    "elif dataset == 'movielens':\n",
    "    dataset_dir = 'MovieLens'\n",
    "elif dataset == 'steam':\n",
    "    dataset_dir = 'Steam'"
   ]
  },
  {
   "cell_type": "code",
   "execution_count": null,
   "metadata": {},
   "outputs": [],
   "source": [
    "# Datasets\n",
    "dataset_dir = os.path.join(os.getenv('DATA_MOUNT_DIR'), dataset_dir)\n",
    "with open(os.path.join(dataset_dir, 'truncated20_dataset.pkl'), 'rb') as f:\n",
    "    _ = pickle.load(f)\n",
    "    _ = pickle.load(f)\n",
    "    _ = pickle.load(f)\n",
    "    dataset = pickle.load(f)\n",
    "dataset.dataframe2tensors()"
   ]
  },
  {
   "cell_type": "code",
   "execution_count": null,
   "metadata": {},
   "outputs": [],
   "source": [
    "field2idx2token = {}\n",
    "for f, token2idx in dataset.field2token2idx.items():\n",
    "    field2idx2token[f] = {id: t for t, id in token2idx.items()}"
   ]
  },
  {
   "cell_type": "code",
   "execution_count": null,
   "metadata": {},
   "outputs": [],
   "source": [
    "inter_feat = dataset.inter_feat\n",
    "corpus = []\n",
    "if dataset.name == 'amazon':\n",
    "    for _ in range(len(inter_feat)):\n",
    "        for k, v in inter_feat[_].items():\n",
    "            if k == dataset.fuid:\n",
    "                user_sentence = f'user_id: {v.item()}'\n",
    "            if k == dataset.fiid:\n",
    "                feat = dataset.item_feat[v.item()]\n",
    "                item_sentence = f'item_id: {v.item()}'\n",
    "                price = dataset.float_field_preprocess['price'].inverse_transform(feat['price'].reshape(-1, 1)).item()\n",
    "                brand = field2idx2token['brand'][feat['brand'].item()]\n",
    "                category = []\n",
    "                for _ in feat['category']:\n",
    "                    c = field2idx2token['category'][_.item()]\n",
    "                    if c != '[PAD]':\n",
    "                        category.append(c)\n",
    "                desc = feat['description']\n",
    "                if price != 0:\n",
    "                    item_sentence += f', price: {price}'\n",
    "                if brand != '[PAD]':\n",
    "                    item_sentence += f', brand: {brand}'\n",
    "                if len(category) > 0:\n",
    "                    category = ', '.join(category)\n",
    "                    item_sentence += f', category: {category}'\n",
    "                if desc != 0:\n",
    "                    item_sentence += f', description: {desc}'\n",
    "        sentence = ', '.join([user_sentence, item_sentence]) + '\\n'\n",
    "        corpus.append(sentence)\n",
    "\n",
    "elif dataset.name == 'movielens':\n",
    "    for _ in range(len(inter_feat)):\n",
    "        for k, v in inter_feat[_].items():\n",
    "            if k == dataset.fuid:\n",
    "                user_sentence = f'user_id: {v.item()}'\n",
    "            if k == dataset.fiid:\n",
    "                feat = dataset.item_feat[v.item()]\n",
    "                item_sentence = f'item_id: {v.item()}'\n",
    "                \n",
    "                genres = []\n",
    "                for _ in feat['genres']:\n",
    "                    c = field2idx2token['genres'][_.item()]\n",
    "                    if c != '[PAD]':\n",
    "                        genres.append(c)\n",
    "                desc = feat['summary']\n",
    "                if len(genres) > 0:\n",
    "                    genres = ', '.join(genres)\n",
    "                    item_sentence += f', genres: {genres}'\n",
    "                if desc != 0:\n",
    "                    item_sentence += f', summary: {desc}'\n",
    "        sentence = ', '.join([user_sentence, item_sentence]) + '\\n'\n",
    "        corpus.append(sentence)"
   ]
  },
  {
   "cell_type": "code",
   "execution_count": null,
   "metadata": {},
   "outputs": [],
   "source": [
    "with open(os.path.join(os.getenv('DATA_MOUNT_DIR'), dataset_dir, 'corpus.txt'), 'w') as f:\n",
    "    for _ in corpus:\n",
    "        f.write(_) "
   ]
  }
 ],
 "metadata": {
  "language_info": {
   "name": "python"
  }
 },
 "nbformat": 4,
 "nbformat_minor": 2
}
